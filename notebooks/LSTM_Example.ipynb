{
 "cells": [
  {
   "cell_type": "code",
   "execution_count": 2,
   "id": "dee81d8c-e570-4181-adba-29927f4d76f2",
   "metadata": {
    "tags": []
   },
   "outputs": [],
   "source": [
    "import pandas as pd\n",
    "import numpy as np\n",
    "from sklearn.preprocessing import StandardScaler\n",
    "import torch\n",
    "from torch.utils.data import Dataset, DataLoader\n",
    "import matplotlib.pyplot as plt"
   ]
  },
  {
   "cell_type": "code",
   "execution_count": 3,
   "id": "7133f61c-5de9-4c00-8c05-4e1cabc34e8d",
   "metadata": {
    "tags": []
   },
   "outputs": [],
   "source": [
    "## Data loading"
   ]
  },
  {
   "cell_type": "code",
   "execution_count": 4,
   "id": "89af6641-024d-4c92-bd27-61f486f3a3f1",
   "metadata": {
    "tags": []
   },
   "outputs": [],
   "source": [
    "# Load data\n",
    "df = pd.read_csv('Data/SPY_Daily_Data.csv')"
   ]
  },
  {
   "cell_type": "code",
   "execution_count": 5,
   "id": "65df38b7-e0ba-4fb2-9ebd-664c896c3907",
   "metadata": {
    "tags": []
   },
   "outputs": [],
   "source": [
    "\n",
    "# Assume 'timestamp' is the date column, and other columns are present as required\n",
    "df['timestamp'] = pd.to_datetime(df['timestamp'])\n",
    "df.set_index('timestamp', inplace=True)\n",
    "\n",
    "# Select relevant features\n",
    "features = df[['open', 'high', 'low', 'close', 'volume']]\n",
    "\n",
    "assert not df.isnull().values.any(), 'NaN Values present'"
   ]
  },
  {
   "cell_type": "markdown",
   "id": "c1b2b7a5-fd72-4dcf-8129-d4a2bbad8b43",
   "metadata": {},
   "source": [
    "## Data Preproc"
   ]
  },
  {
   "cell_type": "code",
   "execution_count": 6,
   "id": "2522543c-2dc0-4a0b-9a77-d807e6b3f81d",
   "metadata": {
    "tags": []
   },
   "outputs": [],
   "source": [
    "# Assuming the CSV has a column 'Close' which we want to predict\n",
    "data = df['close'].values\n",
    "data = data.reshape(-1, 1)"
   ]
  },
  {
   "cell_type": "code",
   "execution_count": 7,
   "id": "01005c75-a2c6-4f96-970c-36e64d8b6358",
   "metadata": {
    "tags": []
   },
   "outputs": [
    {
     "data": {
      "text/plain": [
       "(6223, 1)"
      ]
     },
     "execution_count": 7,
     "metadata": {},
     "output_type": "execute_result"
    }
   ],
   "source": [
    "data.shape"
   ]
  },
  {
   "cell_type": "code",
   "execution_count": 8,
   "id": "75760063-3eb7-4b43-ad70-998d28de225e",
   "metadata": {
    "tags": []
   },
   "outputs": [],
   "source": [
    "# Normalize the data\n",
    "scaler = StandardScaler()\n",
    "scaled_data = scaler.fit_transform(data)\n"
   ]
  },
  {
   "cell_type": "markdown",
   "id": "716b2686-0541-4bdf-aae7-3167de195d49",
   "metadata": {},
   "source": [
    "## Create Training set"
   ]
  },
  {
   "cell_type": "code",
   "execution_count": 9,
   "id": "3ae33eaa-a0e0-4289-a4fa-15f8f7c9244e",
   "metadata": {
    "tags": []
   },
   "outputs": [],
   "source": [
    "# Split the data into training, validation, and test sets (60%, 20%, 20%)\n",
    "train_size = int(len(scaled_data) * 0.6)\n",
    "val_size = int(len(scaled_data) * 0.2)\n",
    "test_size = len(scaled_data) - train_size - val_size\n",
    "\n",
    "train, val, test = scaled_data[:train_size, :], scaled_data[train_size:train_size+val_size, :], scaled_data[train_size+val_size:, :]"
   ]
  },
  {
   "cell_type": "raw",
   "id": "ec2e690d-c1e7-4055-b292-ac249319a08b",
   "metadata": {
    "tags": []
   },
   "source": []
  },
  {
   "cell_type": "code",
   "execution_count": 10,
   "id": "0fd9a5f7-a6ce-4413-b51e-8ede8aa64f91",
   "metadata": {
    "tags": []
   },
   "outputs": [],
   "source": [
    "def create_dataset(dataset, look_back=1):\n",
    "    X, Y = [], []\n",
    "    for i in range(len(dataset) - look_back):\n",
    "        a = dataset[i:(i + look_back), 0]\n",
    "        X.append(a)\n",
    "        Y.append(dataset[i + look_back, 0])\n",
    "    return np.array(X), np.array(Y)\n"
   ]
  },
  {
   "cell_type": "code",
   "execution_count": 11,
   "id": "cc8ee7d8-aae6-4b90-8935-49804bc51619",
   "metadata": {
    "tags": []
   },
   "outputs": [],
   "source": [
    "look_back = 10\n",
    "X_train, Y_train = create_dataset(train, look_back)\n",
    "X_val, Y_val = create_dataset(val, look_back)\n",
    "X_test, Y_test = create_dataset(test, look_back)\n",
    "\n"
   ]
  },
  {
   "cell_type": "code",
   "execution_count": null,
   "id": "40d698c0-c5d6-4174-8eea-2136a10dafd2",
   "metadata": {},
   "outputs": [],
   "source": [
    "# Convert data to PyTorch tensors\n",
    "X_train = torch.tensor(X_train, dtype=torch.float32).unsqueeze(1)\n",
    "Y_train = torch.tensor(Y_train, dtype=torch.float32)\n",
    "X_val = torch.tensor(X_val, dtype=torch.float32).unsqueeze(1)\n",
    "Y_val = torch.tensor(Y_val, dtype=torch.float32)\n",
    "X_test = torch.tensor(X_test, dtype=torch.float32).unsqueeze(1)\n",
    "Y_test = torch.tensor(Y_test, dtype=torch.float32)\n"
   ]
  },
  {
   "cell_type": "code",
   "execution_count": null,
   "id": "efa11639-0c75-47cf-a421-81b7dba78b20",
   "metadata": {},
   "outputs": [],
   "source": []
  },
  {
   "cell_type": "code",
   "execution_count": 12,
   "id": "d83a4cfb-56f7-4aa3-ab69-8e6be8867495",
   "metadata": {
    "tags": []
   },
   "outputs": [],
   "source": [
    "import torch.nn as nn\n",
    "\n",
    "class LSTMModel(nn.Module):\n",
    "    def __init__(self, input_size=1, hidden_layer_size=50, output_size=1):\n",
    "        super(LSTMModel, self).__init__()\n",
    "        self.hidden_layer_size = hidden_layer_size\n",
    "        self.lstm = nn.LSTM(input_size, hidden_layer_size)\n",
    "        self.linear = nn.Linear(hidden_layer_size, output_size)\n",
    "        self.hidden_cell = (torch.zeros(1, 1, self.hidden_layer_size),\n",
    "                            torch.zeros(1, 1, self.hidden_layer_size))\n",
    "\n",
    "    def forward(self, input_seq):\n",
    "        lstm_out, self.hidden_cell = self.lstm(input_seq.view(len(input_seq), 1, -1), self.hidden_cell)\n",
    "        predictions = self.linear(lstm_out.view(len(input_seq), -1))\n",
    "        return predictions[-1]\n",
    "\n",
    "model = LSTMModel()\n",
    "loss_function = nn.MSELoss()\n",
    "optimizer = torch.optim.Adam(model.parameters(), lr=0.001)\n"
   ]
  },
  {
   "cell_type": "code",
   "execution_count": null,
   "id": "a29a0665-1531-435c-bcdf-b88bf9ccb71e",
   "metadata": {},
   "outputs": [],
   "source": [
    "epochs = 100\n",
    "\n",
    "for i in range(epochs):\n",
    "    model.train()\n",
    "    for seq, labels in train_loader:\n",
    "        optimizer.zero_grad()\n",
    "        model.hidden_cell = (torch.zeros(1, 1, model.hidden_layer_size),\n",
    "                             torch.zeros(1, 1, model.hidden_layer_size))\n",
    "\n",
    "        y_pred = model(seq)\n",
    "\n",
    "        single_loss = loss_function(y_pred, labels)\n",
    "        single_loss.backward()\n",
    "        optimizer.step()\n",
    "\n",
    "    model.eval()\n",
    "    val_loss = 0\n",
    "    with torch.no_grad():\n",
    "        for seq, labels in val_loader:\n",
    "            model.hidden_cell = (torch.zeros(1, 1, model.hidden_layer_size),\n",
    "                                 torch.zeros(1, 1, model.hidden_layer_size))\n",
    "            y_pred = model(seq)\n",
    "            val_loss += loss_function(y_pred, labels).item()\n",
    "\n",
    "    if i % 25 == 1:\n",
    "        print(f'epoch: {i:3} train loss: {single_loss.item():10.8f} val loss: {val_loss/len(val_loader):10.8f}')\n",
    "\n",
    "# Make predictions\n",
    "model.eval()\n",
    "train_predict = []\n",
    "test_predict = []\n",
    "\n",
    "with torch.no_grad():\n",
    "    for seq, labels in train_loader:\n",
    "        model.hidden_cell = (torch.zeros(1, 1, model.hidden_layer_size),\n",
    "                             torch.zeros(1, 1, model.hidden_layer_size))\n",
    "        train_predict.append(model(seq).item())\n",
    "\n",
    "    for seq, labels in test_loader:\n",
    "        model.hidden_cell = (torch.zeros(1, 1, model.hidden_layer_size),\n",
    "                             torch.zeros(1, 1, model.hidden_layer_size))\n",
    "        test_predict.append(model(seq).item())\n",
    "\n",
    "# Invert predictions\n",
    "train_predict = scaler.inverse_transform(np.array(train_predict).reshape(-1, 1))\n",
    "Y_train = scaler.inverse_transform(Y_train.numpy().reshape(-1, 1))\n",
    "test_predict = scaler.inverse_transform(np.array(test_predict).reshape(-1, 1))\n",
    "Y_test = scaler.inverse_transform(Y_test.numpy().reshape(-1, 1))\n",
    "\n",
    "# Plot baseline and predictions\n",
    "plt.plot(scaler.inverse_transform(scaled_data))\n",
    "plt.plot(np.append(np.empty((look_back,1))*np.nan, train_predict))\n",
    "plt.plot(np.append(np.empty((len(train_predict)+(look_back*2)+1,1))*np.nan, test_predict))\n",
    "plt.show()\n"
   ]
  }
 ],
 "metadata": {
  "kernelspec": {
   "display_name": "Python 3 (ipykernel)",
   "language": "python",
   "name": "python3"
  },
  "language_info": {
   "codemirror_mode": {
    "name": "ipython",
    "version": 3
   },
   "file_extension": ".py",
   "mimetype": "text/x-python",
   "name": "python",
   "nbconvert_exporter": "python",
   "pygments_lexer": "ipython3",
   "version": "3.11.5"
  }
 },
 "nbformat": 4,
 "nbformat_minor": 5
}
