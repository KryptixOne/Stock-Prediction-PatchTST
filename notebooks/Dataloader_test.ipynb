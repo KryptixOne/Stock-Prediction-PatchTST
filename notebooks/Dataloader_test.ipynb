{
 "cells": [
  {
   "cell_type": "code",
   "execution_count": 5,
   "id": "5a38129f-70e5-4398-ad26-45475139fb82",
   "metadata": {},
   "outputs": [],
   "source": [
    "import os\n",
    "import pandas as pd\n",
    "import torch\n",
    "from torch.utils.data import Dataset, DataLoader\n",
    "\n",
    "class StockForecastDataset(Dataset):\n",
    "    def __init__(self, data_dir, window_size=90, transform=None):\n",
    "        self.data_dir = data_dir\n",
    "        self.window_size = window_size\n",
    "        self.transform = transform\n",
    "        self.sector_files = []\n",
    "\n",
    "        # Collect all CSV file paths in subdirectories, except \"Economic_Data\"\n",
    "        for root, dirs, files in os.walk(data_dir):\n",
    "            if 'Economic_Data' in dirs:\n",
    "                dirs.remove('Economic_Data')  # Exclude the 'Economic_Data' directory\n",
    "            for file in files:\n",
    "                if file.endswith(\".csv\"):\n",
    "                    self.sector_files.append(os.path.join(root, file))\n",
    "\n",
    "        # Store the total length (number of sliding windows across all files)\n",
    "        self.total_windows = self._calculate_total_windows()\n",
    "\n",
    "    def _calculate_total_windows(self):\n",
    "        total_windows = 0\n",
    "        for csv_path in self.sector_files:\n",
    "            df = pd.read_csv(csv_path)\n",
    "            total_windows += max(0, len(df) - self.window_size)\n",
    "        return total_windows\n",
    "    \n",
    "    def _get_data_from_file(self, csv_path, start_idx):\n",
    "        # Read the specific CSV file and return the data corresponding to the window\n",
    "        df = pd.read_csv(csv_path)\n",
    "        df['timestamp'] = pd.to_datetime(df['timestamp'])\n",
    "        df = df.sort_values('timestamp').reset_index(drop=True)\n",
    "        \n",
    "        # Extract relevant features (open, close, volume) and labels\n",
    "        features = df[['1. open','2. high','3. low','4. close','5. adjusted close','6. volume']].values\n",
    "        labels = df[['Forecast 1 Week', 'Forecast 2 Week', 'Forecast 3 Week', 'Forecast 4 Week']].values\n",
    "        \n",
    "        # Return the sliding window and the corresponding labels\n",
    "        window_features = features[start_idx:start_idx + self.window_size]\n",
    "        window_labels = labels[start_idx + self.window_size - 1]  # Labels for the most recent day of the window\n",
    "        \n",
    "        return window_features, window_labels\n",
    "    \n",
    "    def __len__(self):\n",
    "        return self.total_windows\n",
    "\n",
    "    def __getitem__(self, idx):\n",
    "        # Locate the corresponding CSV file and sliding window based on idx\n",
    "        window_count = 0\n",
    "        for csv_path in self.sector_files:\n",
    "            df = pd.read_csv(csv_path)\n",
    "            num_windows = max(0, len(df) - self.window_size)\n",
    "            if window_count + num_windows > idx:\n",
    "                # This file contains the required window\n",
    "                file_idx = idx - window_count\n",
    "                features, labels = self._get_data_from_file(csv_path, file_idx)\n",
    "                break\n",
    "            window_count += num_windows\n",
    "        \n",
    "        # Convert to torch tensors\n",
    "        features = torch.tensor(features, dtype=torch.float32)\n",
    "        labels = torch.tensor(labels, dtype=torch.long)  # Labels are categorical\n",
    "        \n",
    "        if self.transform:\n",
    "            features = self.transform(features)\n",
    "        \n",
    "        return features, labels\n",
    "\n"
   ]
  },
  {
   "cell_type": "code",
   "execution_count": 6,
   "id": "f28574b9-0fdb-4096-8822-835ff2422fcc",
   "metadata": {},
   "outputs": [
    {
     "ename": "ValueError",
     "evalue": "num_samples should be a positive integer value, but got num_samples=0",
     "output_type": "error",
     "traceback": [
      "\u001b[1;31m---------------------------------------------------------------------------\u001b[0m",
      "\u001b[1;31mValueError\u001b[0m                                Traceback (most recent call last)",
      "Cell \u001b[1;32mIn[6], line 10\u001b[0m\n\u001b[0;32m      7\u001b[0m dataset \u001b[38;5;241m=\u001b[39m StockForecastDataset(data_dir\u001b[38;5;241m=\u001b[39mdata_dir, window_size\u001b[38;5;241m=\u001b[39mwindow_size)\n\u001b[0;32m      9\u001b[0m \u001b[38;5;66;03m# Create DataLoader\u001b[39;00m\n\u001b[1;32m---> 10\u001b[0m dataloader \u001b[38;5;241m=\u001b[39m \u001b[43mDataLoader\u001b[49m\u001b[43m(\u001b[49m\u001b[43mdataset\u001b[49m\u001b[43m,\u001b[49m\u001b[43m \u001b[49m\u001b[43mbatch_size\u001b[49m\u001b[38;5;241;43m=\u001b[39;49m\u001b[43mbatch_size\u001b[49m\u001b[43m,\u001b[49m\u001b[43m \u001b[49m\u001b[43mshuffle\u001b[49m\u001b[38;5;241;43m=\u001b[39;49m\u001b[38;5;28;43;01mTrue\u001b[39;49;00m\u001b[43m,\u001b[49m\u001b[43mnum_workers\u001b[49m\u001b[38;5;241;43m=\u001b[39;49m\u001b[38;5;241;43m4\u001b[39;49m\u001b[43m)\u001b[49m\n",
      "File \u001b[1;32mD:\\StockPricePrediction\\venv\\lib\\site-packages\\torch\\utils\\data\\dataloader.py:350\u001b[0m, in \u001b[0;36mDataLoader.__init__\u001b[1;34m(self, dataset, batch_size, shuffle, sampler, batch_sampler, num_workers, collate_fn, pin_memory, drop_last, timeout, worker_init_fn, multiprocessing_context, generator, prefetch_factor, persistent_workers, pin_memory_device)\u001b[0m\n\u001b[0;32m    348\u001b[0m \u001b[38;5;28;01melse\u001b[39;00m:  \u001b[38;5;66;03m# map-style\u001b[39;00m\n\u001b[0;32m    349\u001b[0m     \u001b[38;5;28;01mif\u001b[39;00m shuffle:\n\u001b[1;32m--> 350\u001b[0m         sampler \u001b[38;5;241m=\u001b[39m \u001b[43mRandomSampler\u001b[49m\u001b[43m(\u001b[49m\u001b[43mdataset\u001b[49m\u001b[43m,\u001b[49m\u001b[43m \u001b[49m\u001b[43mgenerator\u001b[49m\u001b[38;5;241;43m=\u001b[39;49m\u001b[43mgenerator\u001b[49m\u001b[43m)\u001b[49m  \u001b[38;5;66;03m# type: ignore[arg-type]\u001b[39;00m\n\u001b[0;32m    351\u001b[0m     \u001b[38;5;28;01melse\u001b[39;00m:\n\u001b[0;32m    352\u001b[0m         sampler \u001b[38;5;241m=\u001b[39m SequentialSampler(dataset)  \u001b[38;5;66;03m# type: ignore[arg-type]\u001b[39;00m\n",
      "File \u001b[1;32mD:\\StockPricePrediction\\venv\\lib\\site-packages\\torch\\utils\\data\\sampler.py:143\u001b[0m, in \u001b[0;36mRandomSampler.__init__\u001b[1;34m(self, data_source, replacement, num_samples, generator)\u001b[0m\n\u001b[0;32m    140\u001b[0m     \u001b[38;5;28;01mraise\u001b[39;00m \u001b[38;5;167;01mTypeError\u001b[39;00m(\u001b[38;5;124mf\u001b[39m\u001b[38;5;124m\"\u001b[39m\u001b[38;5;124mreplacement should be a boolean value, but got replacement=\u001b[39m\u001b[38;5;132;01m{\u001b[39;00m\u001b[38;5;28mself\u001b[39m\u001b[38;5;241m.\u001b[39mreplacement\u001b[38;5;132;01m}\u001b[39;00m\u001b[38;5;124m\"\u001b[39m)\n\u001b[0;32m    142\u001b[0m \u001b[38;5;28;01mif\u001b[39;00m \u001b[38;5;129;01mnot\u001b[39;00m \u001b[38;5;28misinstance\u001b[39m(\u001b[38;5;28mself\u001b[39m\u001b[38;5;241m.\u001b[39mnum_samples, \u001b[38;5;28mint\u001b[39m) \u001b[38;5;129;01mor\u001b[39;00m \u001b[38;5;28mself\u001b[39m\u001b[38;5;241m.\u001b[39mnum_samples \u001b[38;5;241m<\u001b[39m\u001b[38;5;241m=\u001b[39m \u001b[38;5;241m0\u001b[39m:\n\u001b[1;32m--> 143\u001b[0m     \u001b[38;5;28;01mraise\u001b[39;00m \u001b[38;5;167;01mValueError\u001b[39;00m(\u001b[38;5;124mf\u001b[39m\u001b[38;5;124m\"\u001b[39m\u001b[38;5;124mnum_samples should be a positive integer value, but got num_samples=\u001b[39m\u001b[38;5;132;01m{\u001b[39;00m\u001b[38;5;28mself\u001b[39m\u001b[38;5;241m.\u001b[39mnum_samples\u001b[38;5;132;01m}\u001b[39;00m\u001b[38;5;124m\"\u001b[39m)\n",
      "\u001b[1;31mValueError\u001b[0m: num_samples should be a positive integer value, but got num_samples=0"
     ]
    }
   ],
   "source": [
    "# Example usage of DataLoader\n",
    "data_dir = 'D:\\StockPricePrediction\\data\\raw_data'\n",
    "window_size = 90\n",
    "batch_size = 32\n",
    "\n",
    "# Instantiate dataset\n",
    "dataset = StockForecastDataset(data_dir=data_dir, window_size=window_size)\n",
    "\n",
    "# Create DataLoader\n",
    "dataloader = DataLoader(dataset, batch_size=batch_size, shuffle=True,num_workers=4)\n",
    "\n",
    "\n"
   ]
  },
  {
   "cell_type": "code",
   "execution_count": null,
   "id": "4ea06488-ed3a-4b51-94bc-2c6d37ac12e9",
   "metadata": {},
   "outputs": [],
   "source": [
    "# Example iteration through DataLoader\n",
    "for batch_features, batch_labels in dataloader:\n",
    "    print(\"Batch features shape:\", batch_features.shape)  # Should be [batch_size, 90, 3]\n",
    "    print(\"Batch labels shape:\", batch_labels.shape)      # Should be [batch_size, 4]\n",
    "    break"
   ]
  },
  {
   "cell_type": "code",
   "execution_count": null,
   "id": "5ecf0ca7-768a-4e0f-a1ee-a1282d02b3e0",
   "metadata": {},
   "outputs": [],
   "source": [
    "batch_labels"
   ]
  },
  {
   "cell_type": "code",
   "execution_count": null,
   "id": "3e510211-cffc-49c9-a954-68c419f90b82",
   "metadata": {},
   "outputs": [],
   "source": []
  },
  {
   "cell_type": "code",
   "execution_count": null,
   "id": "f1652aaf-251a-448a-85bf-2c36c393f761",
   "metadata": {},
   "outputs": [],
   "source": []
  }
 ],
 "metadata": {
  "kernelspec": {
   "display_name": "Python 3 (ipykernel)",
   "language": "python",
   "name": "python3"
  },
  "language_info": {
   "codemirror_mode": {
    "name": "ipython",
    "version": 3
   },
   "file_extension": ".py",
   "mimetype": "text/x-python",
   "name": "python",
   "nbconvert_exporter": "python",
   "pygments_lexer": "ipython3",
   "version": "3.10.6"
  }
 },
 "nbformat": 4,
 "nbformat_minor": 5
}
